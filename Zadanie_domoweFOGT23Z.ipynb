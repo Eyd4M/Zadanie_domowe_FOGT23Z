{
 "cells": [
  {
   "cell_type": "markdown",
   "source": [
    "<h1>ZADANIE DOMOWE:</h1>\n",
    "Adam Dołowy\n",
    "\n",
    "$$\\sigma_X^2=<x^2>-<x>^2$$\n",
    "$$<p>=?$$\n",
    "$$<p^2>=?$$\n",
    "$$\\sigma_P^2=?$$\n",
    "\n",
    "$$\\sigma_X \\sigma_P \\geq \\frac{\\hbar}{2}$$\n",
    "\n",
    "Spradzić, czy ta zasada nieoznaczoności jest faktycznie dla tej studni potencjału spełniona.\n"
   ],
   "metadata": {
    "collapsed": false
   },
   "outputs": []
  },
  {
   "cell_type": "markdown",
   "source": [
    "<h1>ROZWIĄZANIE</h1>"
   ],
   "metadata": {
    "collapsed": false
   },
   "outputs": []
  },
  {
   "cell_type": "markdown",
   "source": [
    "<h3>0. Definicja zmiennych i równania z repozytorium:</h3>"
   ],
   "metadata": {
    "collapsed": false
   }
  },
  {
   "cell_type": "code",
   "execution_count": 93,
   "outputs": [
    {
     "data": {
      "text/plain": "              ___           \n             ╱ 1     ⎛π⋅n⋅x⎞\nψ(x) = √2⋅  ╱  ─ ⋅sin⎜─────⎟\n          ╲╱   a     ⎝  a  ⎠",
      "image/png": "[encoded data removed]",
      "text/latex": "$\\displaystyle \\psi{\\left(x \\right)} = \\sqrt{2} \\sqrt{\\frac{1}{a}} \\sin{\\left(\\frac{\\pi n x}{a} \\right)}$"
     },
     "execution_count": 93,
     "metadata": {},
     "output_type": "execute_result"
    }
   ],
   "source": [
    "import sympy as sp\n",
    "x = sp.Symbol('x', real=True)\n",
    "k = sp.Symbol('k', real=True, positive=True)\n",
    "a = sp.Symbol('a', real=True)\n",
    "h = sp.Symbol('hbar', real=True, positive=True)\n",
    "n = sp.Symbol('n', integer=True, nonzero=True)\n",
    "i = sp.Symbol('i', imaginary=True)\n",
    "psi = sp.Function('psi')\n",
    "x, k, a, h, n, psi(x), i\n",
    "sp.init_printing()\n",
    "\n",
    "psi(x).diff(x, x)\n",
    "-k ** 2 * psi(x)\n",
    "eq = sp.Eq(psi(x).diff(x, x), -k ** 2 * psi(x))\n",
    "sp.dsolve(eq, psi(x))\n",
    "sp.dsolve(eq, psi(x), ics={psi(0): 0, psi(a): 0})\n",
    "sol = sp.dsolve(eq, psi(x), ics={psi(0): 0})\n",
    "sol = sol.subs(k, n * sp.pi / a)\n",
    "sp.Abs(sol.rhs) ** 2\n",
    "sp.integrate(sol.rhs ** 2, (x, 0, a))\n",
    "sol = sol.subs(sp.Symbol('C1'), sp.sqrt(2 / a))\n",
    "sol"
   ],
   "metadata": {
    "collapsed": false
   }
  },
  {
   "cell_type": "markdown",
   "source": [
    "<h3>1. Odchylenie standardowe położenia:</h3>"
   ],
   "metadata": {
    "collapsed": false
   }
  },
  {
   "cell_type": "code",
   "execution_count": 94,
   "outputs": [
    {
     "data": {
      "text/plain": "a\n─\n2",
      "image/png": "[encoded data removed]",
      "text/latex": "$\\displaystyle \\frac{a}{2}$"
     },
     "execution_count": 94,
     "metadata": {},
     "output_type": "execute_result"
    }
   ],
   "source": [
    "var_x = sp.integrate(sol.rhs * x * sol.rhs, (x,0,a)).simplify()\n",
    "var_x"
   ],
   "metadata": {
    "collapsed": false
   }
  },
  {
   "cell_type": "code",
   "execution_count": 95,
   "outputs": [
    {
     "data": {
      "text/plain": " 2       2  \na       a   \n── - ───────\n3       2  2\n     2⋅π ⋅n ",
      "image/png": "[encoded data removed]",
      "text/latex": "$\\displaystyle \\frac{a^{2}}{3} - \\frac{a^{2}}{2 \\pi^{2} n^{2}}$"
     },
     "execution_count": 95,
     "metadata": {},
     "output_type": "execute_result"
    }
   ],
   "source": [
    "var_x_2 = sp.integrate(sol.rhs * x**2 * sol.rhs, (x,0,a)).simplify()\n",
    "var_x_2"
   ],
   "metadata": {
    "collapsed": false
   }
  },
  {
   "cell_type": "code",
   "execution_count": 96,
   "outputs": [
    {
     "data": {
      "text/plain": " 2       2  \na       a   \n── - ───────\n12      2  2\n     2⋅π ⋅n ",
      "image/png": "[encoded data removed]",
      "text/latex": "$\\displaystyle \\frac{a^{2}}{12} - \\frac{a^{2}}{2 \\pi^{2} n^{2}}$"
     },
     "execution_count": 96,
     "metadata": {},
     "output_type": "execute_result"
    }
   ],
   "source": [
    "sigma_x_2 = (var_x_2 - var_x**2).simplify()\n",
    "sigma_x_2"
   ],
   "metadata": {
    "collapsed": false
   }
  },
  {
   "cell_type": "markdown",
   "source": [
    "<h3>2. Odchylenie standardowe pędu: </h3>\n",
    "$$<p>=\\int \\psi^{*} \\hat{p}  \\frac{\\partial}{\\partial x}  \\psi \\ dx$$\n",
    "$$<p^2>=\\int \\psi^{*} \\hat{p^2} \\frac{\\partial^2}{\\partial x^2}  \\psi \\ dx$$\n",
    "$$p= - i \\hbar $$\n",
    "$$p^2= (-i \\hbar)^2 = -\\hbar^2 $$"
   ],
   "metadata": {
    "collapsed": false
   },
   "outputs": []
  },
  {
   "cell_type": "code",
   "execution_count": 97,
   "outputs": [
    {
     "data": {
      "text/plain": "ⅈ⋅h̅",
      "image/png": "[encoded data removed]",
      "text/latex": "$\\displaystyle i \\hbar$"
     },
     "execution_count": 97,
     "metadata": {},
     "output_type": "execute_result"
    }
   ],
   "source": [
    "p = sp.I*h\n",
    "p"
   ],
   "metadata": {
    "collapsed": false
   }
  },
  {
   "cell_type": "code",
   "execution_count": 98,
   "outputs": [
    {
     "data": {
      "text/plain": "  2\n-h̅ ",
      "image/png": "[encoded data removed]",
      "text/latex": "$\\displaystyle - \\hbar^{2}$"
     },
     "execution_count": 98,
     "metadata": {},
     "output_type": "execute_result"
    }
   ],
   "source": [
    "p_2 = (-sp.I*h)**2\n",
    "p_2"
   ],
   "metadata": {
    "collapsed": false
   }
  },
  {
   "cell_type": "code",
   "execution_count": 99,
   "outputs": [
    {
     "data": {
      "text/plain": "0",
      "image/png": "[encoded data removed]",
      "text/latex": "$\\displaystyle 0$"
     },
     "execution_count": 99,
     "metadata": {},
     "output_type": "execute_result"
    }
   ],
   "source": [
    "var_p = sp.integrate(sol.rhs * p * sol.rhs.diff(x), (x,0,a)).simplify()\n",
    "var_p"
   ],
   "metadata": {
    "collapsed": false
   }
  },
  {
   "cell_type": "code",
   "execution_count": 100,
   "outputs": [
    {
     "data": {
      "text/plain": " 2  2  2\nπ ⋅h̅ ⋅n \n────────\n    2   \n   a    ",
      "image/png": "[encoded data removed]",
      "text/latex": "$\\displaystyle \\frac{\\pi^{2} \\hbar^{2} n^{2}}{a^{2}}$"
     },
     "execution_count": 100,
     "metadata": {},
     "output_type": "execute_result"
    }
   ],
   "source": [
    "var_p_2 = sp.integrate(sol.rhs * p_2 * sol.rhs.diff(x,x), (x,0,a)).simplify()\n",
    "var_p_2"
   ],
   "metadata": {
    "collapsed": false
   }
  },
  {
   "cell_type": "code",
   "execution_count": 101,
   "outputs": [
    {
     "data": {
      "text/plain": " 2  2  2\nπ ⋅h̅ ⋅n \n────────\n    2   \n   a    ",
      "image/png": "[encoded data removed]",
      "text/latex": "$\\displaystyle \\frac{\\pi^{2} \\hbar^{2} n^{2}}{a^{2}}$"
     },
     "execution_count": 101,
     "metadata": {},
     "output_type": "execute_result"
    }
   ],
   "source": [
    "sigma_p_2 = var_p_2 - var_p**2\n",
    "sigma_p_2.simplify()"
   ],
   "metadata": {
    "collapsed": false
   }
  },
  {
   "cell_type": "markdown",
   "source": [
    "<h3>3. Iloczyn odchyleń standardowych</h3>"
   ],
   "metadata": {
    "collapsed": false
   }
  },
  {
   "cell_type": "code",
   "execution_count": 102,
   "outputs": [
    {
     "data": {
      "text/plain": " 2 ⎛ 2  2    ⎞\nh̅ ⋅⎝π ⋅n  - 6⎠\n──────────────\n      12      ",
      "image/png": "[encoded data removed]",
      "text/latex": "$\\displaystyle \\frac{\\hbar^{2} \\left(\\pi^{2} n^{2} - 6\\right)}{12}$"
     },
     "execution_count": 102,
     "metadata": {},
     "output_type": "execute_result"
    }
   ],
   "source": [
    "sigma_xp_2 = (sigma_p_2*sigma_x_2).simplify()\n",
    "sigma_xp_2"
   ],
   "metadata": {
    "collapsed": false
   }
  },
  {
   "cell_type": "code",
   "execution_count": 103,
   "outputs": [
    {
     "data": {
      "text/plain": "     ______________\n    ╱    2  2      \nh̅⋅╲╱  3⋅π ⋅n  - 18 \n───────────────────\n         6         ",
      "image/png": "[encoded data removed]",
      "text/latex": "$\\displaystyle \\frac{\\hbar \\sqrt{3 \\pi^{2} n^{2} - 18}}{6}$"
     },
     "execution_count": 103,
     "metadata": {},
     "output_type": "execute_result"
    }
   ],
   "source": [
    "#sigma_xp = (h/2)*(sp.sqrt((sp.pi**2 * n**2 - 6)/3))\n",
    "sigma_xp = sp.sqrt(sigma_xp_2).simplify()\n",
    "sigma_xp"
   ],
   "metadata": {
    "collapsed": false
   }
  },
  {
   "cell_type": "markdown",
   "source": [
    "<h3>4. Wnioski: </h3>\n",
    "Uzyskany wzór przekształcony do \"przyjemniejszego\" formatu:\n",
    "$$\\frac{\\hbar}{2} * \\sqrt{\\frac{\\Pi^2 n^2}{3} - 2} \\geq \\frac{\\hbar}{2}$$\n",
    "Skoro n >= 1, to dla n minimalnego = 1:\n",
    "$$\\frac{\\hbar}{2} * \\sqrt{\\frac{\\Pi^2}{3} - 2} \\geq \\frac{\\hbar}{2}$$\n",
    "Co w przybliżeniu daje:"
   ],
   "metadata": {
    "collapsed": false
   },
   "outputs": []
  },
  {
   "cell_type": "code",
   "execution_count": 104,
   "outputs": [
    {
     "data": {
      "text/plain": "0.567861808386612⋅h̅",
      "image/png": "[encoded data removed]",
      "text/latex": "$\\displaystyle 0.567861808386612 \\hbar$"
     },
     "execution_count": 104,
     "metadata": {},
     "output_type": "execute_result"
    }
   ],
   "source": [
    "expr = sigma_xp.subs(n,1)\n",
    "expr.evalf()"
   ],
   "metadata": {
    "collapsed": false
   }
  },
  {
   "cell_type": "code",
   "execution_count": 105,
   "outputs": [
    {
     "data": {
      "text/plain": "True",
      "image/png": "[encoded data removed]",
      "text/latex": "$\\displaystyle \\text{True}$"
     },
     "execution_count": 105,
     "metadata": {},
     "output_type": "execute_result"
    }
   ],
   "source": [
    "expr.evalf() >= h/2"
   ],
   "metadata": {
    "collapsed": false
   }
  },
  {
   "cell_type": "markdown",
   "source": [
    "A więc ta nierówność jest w naszym przypadku zawsze spełniona, gdyż dla $$n \\geq 1$$ lewa strona będzie większa od $$\\frac{\\hbar}{2}$$"
   ],
   "metadata": {
    "collapsed": false
   }
  }
 ],
 "metadata": {
  "kernelspec": {
   "display_name": "Python 3",
   "language": "python",
   "name": "python3"
  },
  "language_info": {
   "codemirror_mode": {
    "name": "ipython",
    "version": 2
   },
   "file_extension": ".py",
   "mimetype": "text/x-python",
   "name": "python",
   "nbconvert_exporter": "python",
   "pygments_lexer": "ipython2",
   "version": "2.7.6"
  }
 },
 "nbformat": 4,
 "nbformat_minor": 0
}
